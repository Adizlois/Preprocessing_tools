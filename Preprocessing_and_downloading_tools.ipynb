{
 "cells": [
  {
   "cell_type": "code",
   "execution_count": 43,
   "metadata": {},
   "outputs": [],
   "source": [
    "import pandas as pd\n",
    "def find_files(boxcoord,date_range,csv=\"./index.csv\",cloud=False):\n",
    "    \"\"\"\n",
    "    Returns Sentinel 2 files from the index file (csv available here-> gs://gcp-public-data-sentinel-2/index.csv.gz )\n",
    "    given boxcoordinates and date range as inputs.\n",
    "    Date format: \"yyyy-mm-dd\"\n",
    "    Boxcoord (degrees): Northlat,Southlat,Westlong,Eastlong\n",
    "    Cloud cover threshold is optional. \n",
    "    \n",
    "    ex: find_files((48.7,47.3,82.5,83.2),(\"2016-05\",\"2016-07\"),cloud=20)\n",
    "\n",
    "    \"\"\"\n",
    "    #Grab variables...\n",
    "    nlat,slat,wlon,elon=boxcoord\n",
    "    date1,date2=date_range\n",
    "    #Open csv...\n",
    "    ix=pd.read_csv(csv)\n",
    "    ix[\"SENSING_TIME\"]=pd.to_datetime(ix[\"SENSING_TIME\"],errors=\"coerce\")\n",
    "    ix.index=ix[\"SENSING_TIME\"]\n",
    "    #Date filtering...\n",
    "    ix=ix[date1:date2]\n",
    "    ix=ix.loc[lambda x:(x.NORTH_LAT>(nlat or slat))&((nlat or slat)>x.SOUTH_LAT)\\\n",
    "              &(x.EAST_LON>(wlon or elon))&((wlon or elon)>x.WEST_LON),:]\n",
    "    if cloud:\n",
    "        ix=ix.loc[ix.CLOUD_COVER<cloud]\n",
    "    return ix.BASE_URL"
   ]
  },
  {
   "cell_type": "code",
   "execution_count": null,
   "metadata": {},
   "outputs": [],
   "source": []
  }
 ],
 "metadata": {
  "kernelspec": {
   "display_name": "Python 3",
   "language": "python",
   "name": "python3"
  },
  "language_info": {
   "codemirror_mode": {
    "name": "ipython",
    "version": 3
   },
   "file_extension": ".py",
   "mimetype": "text/x-python",
   "name": "python",
   "nbconvert_exporter": "python",
   "pygments_lexer": "ipython3",
   "version": "3.5.2"
  }
 },
 "nbformat": 4,
 "nbformat_minor": 2
}
